{
 "cells": [
  {
   "cell_type": "markdown",
   "id": "1510bc70-bd06-40b0-8065-62c3db1fcf6d",
   "metadata": {},
   "source": [
    "# Assignment 25/03/2025"
   ]
  },
  {
   "cell_type": "markdown",
   "id": "cbfbf473-da48-4a61-9d65-f96decc1744c",
   "metadata": {},
   "source": [
    "## Imports"
   ]
  },
  {
   "cell_type": "code",
   "execution_count": 1,
   "id": "e65e144d-1e7a-4db9-adba-b0e0dba275cb",
   "metadata": {
    "tags": []
   },
   "outputs": [],
   "source": [
    "import cv2\n",
    "import numpy as np\n",
    "import matplotlib.pyplot as plt\n",
    "import time"
   ]
  },
  {
   "cell_type": "markdown",
   "id": "9d2ad93b-f9d9-45f2-a2ff-c6eaaa40b13c",
   "metadata": {},
   "source": [
    "## Sparse Optical Flow - Lucas-Kanade algorithm"
   ]
  },
  {
   "cell_type": "code",
   "execution_count": null,
   "id": "0b309e01-b9a6-4c9e-9fb7-4e419e8b132f",
   "metadata": {
    "tags": []
   },
   "outputs": [],
   "source": [
    "# REFERENCING: https://docs.opencv.org/3.4/d4/dee/tutorial_optical_flow.html,\n",
    "#              https://www.geeksforgeeks.org/python-opencv-optical-flow-with-lucas-kanade-method/\n",
    "video_path = '../videos/cars.mp4'\n",
    "cap = cv2.VideoCapture(video_path)"
   ]
  },
  {
   "cell_type": "code",
   "execution_count": 3,
   "id": "e6c1166d-bd46-475e-b08c-b6d15a297a47",
   "metadata": {
    "tags": []
   },
   "outputs": [],
   "source": [
    "# ShiTomasi corner detection\n",
    "feature_params = dict(maxCorners=100,\n",
    "                      qualityLevel=0.3,\n",
    "                      minDistance=7,\n",
    "                      blockSize=7)"
   ]
  },
  {
   "cell_type": "code",
   "execution_count": 4,
   "id": "31a11395-d58f-46f3-bc33-78196a1a2417",
   "metadata": {
    "tags": []
   },
   "outputs": [],
   "source": [
    "lk_params = dict(winSize=(15, 15),\n",
    "                 maxLevel=2,\n",
    "                 criteria=(cv2.TERM_CRITERIA_EPS | cv2.TERM_CRITERIA_COUNT, 10, 0.03))"
   ]
  },
  {
   "cell_type": "code",
   "execution_count": 5,
   "id": "29d9658b-fe5e-484d-a878-a89177ae0f39",
   "metadata": {
    "tags": []
   },
   "outputs": [],
   "source": [
    "# Create some random colors\n",
    "color = np.random.randint(0, 255, (100, 3))"
   ]
  },
  {
   "cell_type": "code",
   "execution_count": 6,
   "id": "9a62b59d-4e79-46f8-9cf8-7115a99a8318",
   "metadata": {
    "tags": []
   },
   "outputs": [],
   "source": [
    "# Take first frame and find corners in it\n",
    "ret, old_frame = cap.read()\n",
    "if not ret:\n",
    "    print(\"Error reading video\")\n",
    "    cap.release()\n",
    "    exit()\n",
    "\n",
    "old_gray = cv2.cvtColor(old_frame, cv2.COLOR_BGR2GRAY)\n",
    "p0 = cv2.goodFeaturesToTrack(old_gray, mask=None, **feature_params)"
   ]
  },
  {
   "cell_type": "code",
   "execution_count": 7,
   "id": "5f73b883-1de8-4897-8d89-3348bb7ce80f",
   "metadata": {
    "tags": []
   },
   "outputs": [],
   "source": [
    "# Create a mask image for drawing purposes\n",
    "mask = np.zeros_like(old_frame)"
   ]
  },
  {
   "cell_type": "code",
   "execution_count": 8,
   "id": "60a1a6ee-e376-453e-91c6-b99b5f7923df",
   "metadata": {
    "tags": []
   },
   "outputs": [],
   "source": [
    "# VideoWriter to save output video\n",
    "height, width, _ = old_frame.shape\n",
    "fourcc = cv2.VideoWriter_fourcc(*'XVID')\n",
    "out = cv2.VideoWriter('lucas_kanade.avi', fourcc, 20.0, (width, height))"
   ]
  },
  {
   "cell_type": "code",
   "execution_count": 9,
   "id": "a586181e-f197-4653-a9f3-b62dce77eb07",
   "metadata": {
    "tags": []
   },
   "outputs": [
    {
     "name": "stdout",
     "output_type": "stream",
     "text": [
      "No frames grabbed\n",
      "Video saved\n"
     ]
    }
   ],
   "source": [
    "while cap.isOpened():\n",
    "    ret, frame = cap.read()\n",
    "    if not ret:\n",
    "        print(\"No frames grabbed\")\n",
    "        break\n",
    "\n",
    "    frame_gray = cv2.cvtColor(frame, cv2.COLOR_BGR2GRAY)\n",
    "    \n",
    "    # Calculate optical flow using Lucas-Kanade method\n",
    "    p1, st, err = cv2.calcOpticalFlowPyrLK(old_gray, frame_gray, p0, None, **lk_params)\n",
    "    \n",
    "    # Select good points\n",
    "    if p1 is not None:\n",
    "        good_new = p1[st == 1]\n",
    "        good_old = p0[st == 1]\n",
    "    else:\n",
    "        print(\"No points found!\")\n",
    "        break\n",
    "\n",
    "    # Draw the tracks\n",
    "    for i, (new, old) in enumerate(zip(good_new, good_old)):\n",
    "        a, b = new.ravel()\n",
    "        c, d = old.ravel()\n",
    "        mask = cv2.line(mask, (int(a), int(b)), (int(c), int(d)), color[i].tolist(), 2)\n",
    "        frame = cv2.circle(frame, (int(a), int(b)), 5, color[i].tolist(), -1)\n",
    "    \n",
    "    img = cv2.add(frame, mask)\n",
    "    \n",
    "    # Write the resulting frame into the file\n",
    "    out.write(img)\n",
    "    \n",
    "    # Update the previous frame and previous points\n",
    "    old_gray = frame_gray.copy()\n",
    "    p0 = good_new.reshape(-1, 1, 2)\n",
    "\n",
    "\n",
    "# Release all resources\n",
    "cap.release()\n",
    "out.release()\n",
    "print(\"Video saved\")"
   ]
  },
  {
   "cell_type": "markdown",
   "id": "03a1e257-d528-4f5b-a61d-b756f03eefd9",
   "metadata": {},
   "source": [
    "## Dense Optical Flow - Farneback's algorithm"
   ]
  },
  {
   "cell_type": "code",
   "execution_count": null,
   "id": "5ed17006-5fed-4205-8070-1d5a2c957edc",
   "metadata": {
    "tags": []
   },
   "outputs": [],
   "source": [
    "# Set video path and open video capture\n",
    "video_path = '../videos/globe-earth-animation-4.gif'\n",
    "cap = cv2.VideoCapture(video_path)"
   ]
  },
  {
   "cell_type": "code",
   "execution_count": 11,
   "id": "e1acb7a8-8246-475e-bc45-6ca15a41dc32",
   "metadata": {
    "tags": []
   },
   "outputs": [],
   "source": [
    "ret, frame1 = cap.read()\n",
    "if not ret:\n",
    "    print(\"Error reading video\")\n",
    "    cap.release()\n",
    "    exit()"
   ]
  },
  {
   "cell_type": "code",
   "execution_count": 12,
   "id": "9b79e17b-41a0-4b00-9a25-c823c37f9f37",
   "metadata": {
    "tags": []
   },
   "outputs": [],
   "source": [
    "# Prepare initial data for optical flow\n",
    "prvs = cv2.cvtColor(frame1, cv2.COLOR_BGR2GRAY)\n",
    "hsv = np.zeros_like(frame1)\n",
    "hsv[..., 1] = 255"
   ]
  },
  {
   "cell_type": "code",
   "execution_count": 13,
   "id": "0d123e1b-f4ac-4ea8-a911-badb13e7aede",
   "metadata": {
    "tags": []
   },
   "outputs": [],
   "source": [
    "# Set up VideoWriter to save the optical flow output\n",
    "height, width, _ = frame1.shape\n",
    "fourcc = cv2.VideoWriter_fourcc(*'XVID')\n",
    "out = cv2.VideoWriter('optical_flow.avi', fourcc, 20.0, (width, height))"
   ]
  },
  {
   "cell_type": "code",
   "execution_count": 14,
   "id": "3f9903eb-252a-46f2-910f-4485b1fc1bf1",
   "metadata": {
    "tags": []
   },
   "outputs": [
    {
     "name": "stdout",
     "output_type": "stream",
     "text": [
      "No frames grabbed\n",
      "Video saved\n"
     ]
    }
   ],
   "source": [
    "while cap.isOpened():\n",
    "    ret, frame2 = cap.read()\n",
    "    if not ret:\n",
    "        print('No frames grabbed')\n",
    "        break\n",
    "\n",
    "    next_frame = cv2.cvtColor(frame2, cv2.COLOR_BGR2GRAY)\n",
    "\n",
    "    # Calculate dense optical flow using Farneback method\n",
    "    flow = cv2.calcOpticalFlowFarneback(prvs, next_frame, None, \n",
    "                                       0.5, 3, 15, 3, 5, 1.2, 0)\n",
    "    mag, ang = cv2.cartToPolar(flow[..., 0], flow[..., 1])\n",
    "    hsv[..., 0] = ang * 180 / np.pi / 2\n",
    "    hsv[..., 2] = cv2.normalize(mag, None, 0, 255, cv2.NORM_MINMAX)\n",
    "    bgr = cv2.cvtColor(hsv, cv2.COLOR_HSV2BGR)\n",
    "    \n",
    "    out.write(bgr)\n",
    "    prvs = next_frame.copy()\n",
    "\n",
    "# Release resources\n",
    "cap.release()\n",
    "out.release()\n",
    "print(\"Video saved\")"
   ]
  },
  {
   "cell_type": "code",
   "execution_count": null,
   "id": "c57da39e-8da7-489f-8b4c-4f7f7a2b1712",
   "metadata": {},
   "outputs": [],
   "source": []
  }
 ],
 "metadata": {
  "kernelspec": {
   "display_name": "Python 3 (ipykernel)",
   "language": "python",
   "name": "python3"
  },
  "language_info": {
   "codemirror_mode": {
    "name": "ipython",
    "version": 3
   },
   "file_extension": ".py",
   "mimetype": "text/x-python",
   "name": "python",
   "nbconvert_exporter": "python",
   "pygments_lexer": "ipython3",
   "version": "3.11.4"
  }
 },
 "nbformat": 4,
 "nbformat_minor": 5
}
